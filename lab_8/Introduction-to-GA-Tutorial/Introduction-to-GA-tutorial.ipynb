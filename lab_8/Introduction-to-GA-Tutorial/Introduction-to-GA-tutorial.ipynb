{
 "cells": [
  {
   "attachments": {},
   "cell_type": "markdown",
   "metadata": {},
   "source": [
    "Based on the article: [Genetic Algorithm Implementation in Python](https://towardsdatascience.com/genetic-algorithm-implementation-in-python-5ab67bb124a6)\n",
    "\n",
    "**Y = w1x1 + w2x2 + w3x3 + w4x4 + w5x5 + w6x6**, where (x1,x2,x3,x4,x5,x6)=(4,-2,3.5,5,-11,-4.7)\n",
    "\n",
    "**Goal:** find the parameters (weights) that maximizes the equation above (Y). (What are the best values for the 6 weights w1 to w6?)\n",
    "\n",
    "**Method:** The positive input is to be multiplied by the largest possible positive number and the negative number is to be multiplied by the smallest possible negative number. \n",
    "\n",
    "We are going to use the genetic algorithm for the best possible values after a number of generations.\n",
    "\n",
    "**Idea to implement:** Implement Genetic Algorithm that can figure out on its own that it is better to use positive weight with positive inputs and negative weights with negative inputs. \n",
    "\n",
    "\n",
    "Genetic algorithm parameters:\n",
    "* Mating pool size: `num_parents_mating`\n",
    "* Population size: `pop_size`\n"
   ]
  },
  {
   "cell_type": "code",
   "execution_count": 15,
   "metadata": {},
   "outputs": [],
   "source": [
    "import numpy\n",
    "import ga\n",
    "import matplotlib.pyplot"
   ]
  },
  {
   "cell_type": "code",
   "execution_count": 16,
   "metadata": {},
   "outputs": [
    {
     "data": {
      "text/plain": [
       "array([[-1.12802174, -0.40160817,  1.07298257,  3.73091517, -2.86461907,\n",
       "        -3.26205351],\n",
       "       [-0.10841968,  0.91789181,  0.8647222 , -0.85567438, -3.91021756,\n",
       "        -0.9551151 ],\n",
       "       [ 3.38210185, -0.62993704, -0.06106256,  1.87993017, -1.93004046,\n",
       "         1.35530524],\n",
       "       [-2.91548729, -2.88586331,  2.00951888,  3.29087731,  3.19556027,\n",
       "        -1.88595127],\n",
       "       [ 2.65660641, -0.87831051,  1.89856772,  1.36662307,  2.42449743,\n",
       "         2.59199354],\n",
       "       [ 1.74766972,  2.47419366,  0.50199725, -0.58857581, -0.24072255,\n",
       "        -0.90973083],\n",
       "       [ 2.77585649,  3.71163873,  2.95417589, -3.68321833,  3.65911614,\n",
       "        -2.73483522],\n",
       "       [ 1.6833716 , -3.66335734, -1.146536  ,  0.18928829,  2.95137509,\n",
       "         1.23012093]])"
      ]
     },
     "execution_count": 16,
     "metadata": {},
     "output_type": "execute_result"
    }
   ],
   "source": [
    "# Inputs of the equation (x)\n",
    "equation_inputs = [4,-2,3.5,5,-11,-4.7]\n",
    "\n",
    "# Number of the weights we are looking to optimize.\n",
    "num_weights = len(equation_inputs)\n",
    "\n",
    "# Number of solutions per population\n",
    "sol_per_pop = 8\n",
    "\n",
    "# Defining population size - The population will have sol_per_pop chromosome where each chromosome has num_weights genes\n",
    "pop_size = (sol_per_pop, num_weights) \n",
    "\n",
    "# Creating the initial population\n",
    "new_population = numpy.random.uniform(low=-4.0, high=4.0, size=pop_size)\n",
    "new_population"
   ]
  },
  {
   "cell_type": "code",
   "execution_count": 18,
   "metadata": {},
   "outputs": [
    {
     "name": "stdout",
     "output_type": "stream",
     "text": [
      "Generation :  0\n",
      "Fitness\n",
      "[ 65.5436055   43.98012758  38.83472385   7.78008581 -12.99069229\n",
      "   7.78008581 -31.79287959 -27.25292785]\n",
      "Best result :  65.54360550329677\n",
      "Parents\n",
      "[[-1.12802174 -0.40160817  1.07298257  3.73091517 -2.86461907 -3.26205351]\n",
      " [-0.10841968  0.91789181  0.8647222  -0.85567438 -3.91021756 -0.9551151 ]\n",
      " [ 3.38210185 -0.62993704 -0.06106256  1.87993017 -1.93004046  1.35530524]\n",
      " [ 1.74766972  2.47419366  0.50199725 -0.58857581 -0.24072255 -0.90973083]]\n",
      "Crossover\n",
      "[[-1.12802174 -0.40160817  1.07298257 -0.85567438 -3.91021756 -0.9551151 ]\n",
      " [-0.10841968  0.91789181  0.8647222   1.87993017 -1.93004046  1.35530524]\n",
      " [ 3.38210185 -0.62993704 -0.06106256 -0.58857581 -0.24072255 -0.90973083]\n",
      " [ 1.74766972  2.47419366  0.50199725  3.73091517 -2.86461907 -3.26205351]]\n",
      "Mutation\n",
      "[[-1.12802174 -0.40160817  1.07298257 -0.85567438 -3.91021756 -1.44504532]\n",
      " [-0.10841968  0.91789181  0.8647222   1.87993017 -1.93004046  0.8636187 ]\n",
      " [ 3.38210185 -0.62993704 -0.06106256 -0.58857581 -0.24072255 -0.20072893]\n",
      " [ 1.74766972  2.47419366  0.50199725  3.73091517 -2.86461907 -3.33884099]]\n",
      "Generation :  1\n",
      "Fitness\n",
      "[65.5436055  43.98012758 38.83472385  7.78008581 45.57230267 27.32815344\n",
      " 15.22305749 69.65722016]\n",
      "Best result :  69.65722016107586\n",
      "Parents\n",
      "[[ 1.74766972  2.47419366  0.50199725  3.73091517 -2.86461907 -3.33884099]\n",
      " [-1.12802174 -0.40160817  1.07298257  3.73091517 -2.86461907 -3.26205351]\n",
      " [-1.12802174 -0.40160817  1.07298257 -0.85567438 -3.91021756 -1.44504532]\n",
      " [-0.10841968  0.91789181  0.8647222  -0.85567438 -3.91021756 -0.9551151 ]]\n",
      "Crossover\n",
      "[[ 1.74766972  2.47419366  0.50199725  3.73091517 -2.86461907 -3.26205351]\n",
      " [-1.12802174 -0.40160817  1.07298257 -0.85567438 -3.91021756 -1.44504532]\n",
      " [-1.12802174 -0.40160817  1.07298257 -0.85567438 -3.91021756 -0.9551151 ]\n",
      " [-0.10841968  0.91789181  0.8647222   3.73091517 -2.86461907 -3.33884099]]\n",
      "Mutation\n",
      "[[ 1.74766972  2.47419366  0.50199725  3.73091517 -2.86461907 -2.39656414]\n",
      " [-1.12802174 -0.40160817  1.07298257 -0.85567438 -3.91021756 -1.57605887]\n",
      " [-1.12802174 -0.40160817  1.07298257 -0.85567438 -3.91021756 -0.14831282]\n",
      " [-0.10841968  0.91789181  0.8647222   3.73091517 -2.86461907 -3.72678238]]\n",
      "Generation :  2\n",
      "Fitness\n",
      "[69.65722016 65.5436055  45.57230267 43.98012758 65.22851896 46.18806636\n",
      " 39.47765992 68.43832815]\n",
      "Best result :  69.65722016107586\n",
      "Parents\n",
      "[[ 1.74766972  2.47419366  0.50199725  3.73091517 -2.86461907 -3.33884099]\n",
      " [-0.10841968  0.91789181  0.8647222   3.73091517 -2.86461907 -3.72678238]\n",
      " [-1.12802174 -0.40160817  1.07298257  3.73091517 -2.86461907 -3.26205351]\n",
      " [ 1.74766972  2.47419366  0.50199725  3.73091517 -2.86461907 -2.39656414]]\n",
      "Crossover\n",
      "[[ 1.74766972  2.47419366  0.50199725  3.73091517 -2.86461907 -3.72678238]\n",
      " [-0.10841968  0.91789181  0.8647222   3.73091517 -2.86461907 -3.26205351]\n",
      " [-1.12802174 -0.40160817  1.07298257  3.73091517 -2.86461907 -2.39656414]\n",
      " [ 1.74766972  2.47419366  0.50199725  3.73091517 -2.86461907 -3.33884099]]\n",
      "Mutation\n",
      "[[ 1.74766972  2.47419366  0.50199725  3.73091517 -2.86461907 -4.50520632]\n",
      " [-0.10841968  0.91789181  0.8647222   3.73091517 -2.86461907 -4.25607983]\n",
      " [-1.12802174 -0.40160817  1.07298257  3.73091517 -2.86461907 -3.09780421]\n",
      " [ 1.74766972  2.47419366  0.50199725  3.73091517 -2.86461907 -2.8680146 ]]\n",
      "Generation :  3\n",
      "Fitness\n",
      "[69.65722016 68.43832815 65.5436055  65.22851896 75.13913724 70.92602616\n",
      " 64.77163377 67.44433616]\n",
      "Best result :  75.1391372360863\n",
      "Parents\n",
      "[[ 1.74766972  2.47419366  0.50199725  3.73091517 -2.86461907 -4.50520632]\n",
      " [-0.10841968  0.91789181  0.8647222   3.73091517 -2.86461907 -4.25607983]\n",
      " [ 1.74766972  2.47419366  0.50199725  3.73091517 -2.86461907 -3.33884099]\n",
      " [-0.10841968  0.91789181  0.8647222   3.73091517 -2.86461907 -3.72678238]]\n",
      "Crossover\n",
      "[[ 1.74766972  2.47419366  0.50199725  3.73091517 -2.86461907 -4.25607983]\n",
      " [-0.10841968  0.91789181  0.8647222   3.73091517 -2.86461907 -3.33884099]\n",
      " [ 1.74766972  2.47419366  0.50199725  3.73091517 -2.86461907 -3.72678238]\n",
      " [-0.10841968  0.91789181  0.8647222   3.73091517 -2.86461907 -4.50520632]]\n",
      "Mutation\n",
      "[[ 1.74766972  2.47419366  0.50199725  3.73091517 -2.86461907 -5.18983448]\n",
      " [-0.10841968  0.91789181  0.8647222   3.73091517 -2.86461907 -2.34089849]\n",
      " [ 1.74766972  2.47419366  0.50199725  3.73091517 -2.86461907 -2.95062672]\n",
      " [-0.10841968  0.91789181  0.8647222   3.73091517 -2.86461907 -5.27735538]]\n",
      "Generation :  4\n",
      "Fitness\n",
      "[75.13913724 70.92602616 69.65722016 68.43832815 78.35688959 61.92467387\n",
      " 67.83261312 75.72602126]\n",
      "Best result :  78.3568895931825\n",
      "Parents\n",
      "[[ 1.74766972  2.47419366  0.50199725  3.73091517 -2.86461907 -5.18983448]\n",
      " [-0.10841968  0.91789181  0.8647222   3.73091517 -2.86461907 -5.27735538]\n",
      " [ 1.74766972  2.47419366  0.50199725  3.73091517 -2.86461907 -4.50520632]\n",
      " [-0.10841968  0.91789181  0.8647222   3.73091517 -2.86461907 -4.25607983]]\n",
      "Crossover\n",
      "[[ 1.74766972  2.47419366  0.50199725  3.73091517 -2.86461907 -5.27735538]\n",
      " [-0.10841968  0.91789181  0.8647222   3.73091517 -2.86461907 -4.50520632]\n",
      " [ 1.74766972  2.47419366  0.50199725  3.73091517 -2.86461907 -4.25607983]\n",
      " [-0.10841968  0.91789181  0.8647222   3.73091517 -2.86461907 -5.18983448]]\n",
      "Mutation\n",
      "[[ 1.74766972  2.47419366  0.50199725  3.73091517 -2.86461907 -6.07374893]\n",
      " [-0.10841968  0.91789181  0.8647222   3.73091517 -2.86461907 -4.77349162]\n",
      " [ 1.74766972  2.47419366  0.50199725  3.73091517 -2.86461907 -3.30728458]\n",
      " [-0.10841968  0.91789181  0.8647222   3.73091517 -2.86461907 -4.40759506]]\n"
     ]
    }
   ],
   "source": [
    "best_outputs = []\n",
    "\n",
    "# Number of generations\n",
    "num_generations = 5\n",
    "\n",
    "# Mating pool size\n",
    "num_parents_mating = 4 \n",
    "\n",
    "for generation in range(num_generations):\n",
    "    \n",
    "    print(\"Generation : \", generation)\n",
    "\n",
    "    # Measuring the fitness of each chromosome in the population.\n",
    "    fitness = ga.cal_pop_fitness(equation_inputs, new_population)\n",
    "    print(\"Fitness\")\n",
    "    print(fitness)\n",
    "\n",
    "    best_outputs.append(numpy.max(numpy.sum(new_population*equation_inputs, axis=1)))\n",
    "    # The best result in the current iteration.\n",
    "    print(\"Best result : \", numpy.max(numpy.sum(new_population*equation_inputs, axis=1)))\n",
    "\n",
    "    # Selecting the best parents in the population for mating.\n",
    "    parents = ga.select_mating_pool(new_population, fitness, num_parents_mating)\n",
    "    print(\"Parents\")\n",
    "    print(parents)\n",
    "\n",
    "    # Generating next generation using crossover.\n",
    "    offspring_crossover = ga.crossover(parents, offspring_size=(pop_size[0]-parents.shape[0],num_weights))\n",
    "    print(\"Crossover\")\n",
    "    print(offspring_crossover)\n",
    "\n",
    "    # Adding some variations to the offspring using mutation.\n",
    "    offspring_mutation = ga.mutation(offspring_crossover)\n",
    "    print(\"Mutation\")\n",
    "    print(offspring_mutation)\n",
    "    \n",
    "    # Creating the new population based on the parents and offspring.\n",
    "    new_population[0:parents.shape[0], :] = parents\n",
    "    new_population[parents.shape[0]:, :] = offspring_mutation\n"
   ]
  },
  {
   "cell_type": "code",
   "execution_count": 19,
   "metadata": {},
   "outputs": [
    {
     "name": "stdout",
     "output_type": "stream",
     "text": [
      "Best solution :  [[[ 1.74766972  2.47419366  0.50199725  3.73091517 -2.86461907\n",
      "   -6.07374893]]]\n",
      "Best solution fitness :  [82.51128751]\n"
     ]
    }
   ],
   "source": [
    "# Getting the best solution after iterating finishing all generations.\n",
    "# At first, the fitness is calculated for each solution in the final generation.\n",
    "fitness = ga.cal_pop_fitness(equation_inputs, new_population)\n",
    "# Then return the index of that solution corresponding to the best fitness.\n",
    "best_match_idx = numpy.where(fitness == numpy.max(fitness))\n",
    "\n",
    "print(\"Best solution : \", new_population[best_match_idx, :])\n",
    "print(\"Best solution fitness : \", fitness[best_match_idx])"
   ]
  },
  {
   "cell_type": "code",
   "execution_count": 20,
   "metadata": {},
   "outputs": [
    {
     "data": {
      "image/png": "[encoded data removed]",
      "text/plain": [
       "<Figure size 640x480 with 1 Axes>"
      ]
     },
     "metadata": {},
     "output_type": "display_data"
    }
   ],
   "source": [
    "# Visualise the evolution on a line chart\n",
    "matplotlib.pyplot.plot(best_outputs)\n",
    "matplotlib.pyplot.xlabel(\"Iteration\")\n",
    "matplotlib.pyplot.ylabel(\"Fitness\")\n",
    "matplotlib.pyplot.show()"
   ]
  }
 ],
 "metadata": {
  "kernelspec": {
   "display_name": ".venv",
   "language": "python",
   "name": "python3"
  },
  "language_info": {
   "codemirror_mode": {
    "name": "ipython",
    "version": 3
   },
   "file_extension": ".py",
   "mimetype": "text/x-python",
   "name": "python",
   "nbconvert_exporter": "python",
   "pygments_lexer": "ipython3",
   "version": "3.10.8"
  },
  "orig_nbformat": 4
 },
 "nbformat": 4,
 "nbformat_minor": 2
}
